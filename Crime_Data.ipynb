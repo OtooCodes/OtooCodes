{
 "cells": [
  {
   "cell_type": "code",
   "execution_count": 1,
   "metadata": {},
   "outputs": [],
   "source": [
    "import seaborn as sns\n",
    "import pandas as pd  \n",
    "import numpy as np \n",
    "import matplotlib.pyplot as plt"
   ]
  },
  {
   "cell_type": "code",
   "execution_count": 3,
   "metadata": {},
   "outputs": [],
   "source": [
    "df = pd.read_csv(\"Crime_Data_from_2020_to_Present.csv\")"
   ]
  },
  {
   "cell_type": "code",
   "execution_count": 4,
   "metadata": {},
   "outputs": [
    {
     "data": {
      "text/html": [
       "<div>\n",
       "<style scoped>\n",
       "    .dataframe tbody tr th:only-of-type {\n",
       "        vertical-align: middle;\n",
       "    }\n",
       "\n",
       "    .dataframe tbody tr th {\n",
       "        vertical-align: top;\n",
       "    }\n",
       "\n",
       "    .dataframe thead th {\n",
       "        text-align: right;\n",
       "    }\n",
       "</style>\n",
       "<table border=\"1\" class=\"dataframe\">\n",
       "  <thead>\n",
       "    <tr style=\"text-align: right;\">\n",
       "      <th></th>\n",
       "      <th>DR_NO</th>\n",
       "      <th>Date Rptd</th>\n",
       "      <th>DATE OCC</th>\n",
       "      <th>TIME OCC</th>\n",
       "      <th>AREA</th>\n",
       "      <th>AREA NAME</th>\n",
       "      <th>Rpt Dist No</th>\n",
       "      <th>Part 1-2</th>\n",
       "      <th>Crm Cd</th>\n",
       "      <th>Crm Cd Desc</th>\n",
       "      <th>...</th>\n",
       "      <th>Status</th>\n",
       "      <th>Status Desc</th>\n",
       "      <th>Crm Cd 1</th>\n",
       "      <th>Crm Cd 2</th>\n",
       "      <th>Crm Cd 3</th>\n",
       "      <th>Crm Cd 4</th>\n",
       "      <th>LOCATION</th>\n",
       "      <th>Cross Street</th>\n",
       "      <th>LAT</th>\n",
       "      <th>LON</th>\n",
       "    </tr>\n",
       "  </thead>\n",
       "  <tbody>\n",
       "    <tr>\n",
       "      <th>0</th>\n",
       "      <td>10304468</td>\n",
       "      <td>01/08/2020 12:00:00 AM</td>\n",
       "      <td>01/08/2020 12:00:00 AM</td>\n",
       "      <td>2230</td>\n",
       "      <td>3</td>\n",
       "      <td>Southwest</td>\n",
       "      <td>377</td>\n",
       "      <td>2</td>\n",
       "      <td>624</td>\n",
       "      <td>BATTERY - SIMPLE ASSAULT</td>\n",
       "      <td>...</td>\n",
       "      <td>AO</td>\n",
       "      <td>Adult Other</td>\n",
       "      <td>624.0</td>\n",
       "      <td>NaN</td>\n",
       "      <td>NaN</td>\n",
       "      <td>NaN</td>\n",
       "      <td>1100 W  39TH                         PL</td>\n",
       "      <td>NaN</td>\n",
       "      <td>34.0141</td>\n",
       "      <td>-118.2978</td>\n",
       "    </tr>\n",
       "    <tr>\n",
       "      <th>1</th>\n",
       "      <td>190101086</td>\n",
       "      <td>01/02/2020 12:00:00 AM</td>\n",
       "      <td>01/01/2020 12:00:00 AM</td>\n",
       "      <td>330</td>\n",
       "      <td>1</td>\n",
       "      <td>Central</td>\n",
       "      <td>163</td>\n",
       "      <td>2</td>\n",
       "      <td>624</td>\n",
       "      <td>BATTERY - SIMPLE ASSAULT</td>\n",
       "      <td>...</td>\n",
       "      <td>IC</td>\n",
       "      <td>Invest Cont</td>\n",
       "      <td>624.0</td>\n",
       "      <td>NaN</td>\n",
       "      <td>NaN</td>\n",
       "      <td>NaN</td>\n",
       "      <td>700 S  HILL                         ST</td>\n",
       "      <td>NaN</td>\n",
       "      <td>34.0459</td>\n",
       "      <td>-118.2545</td>\n",
       "    </tr>\n",
       "    <tr>\n",
       "      <th>2</th>\n",
       "      <td>200110444</td>\n",
       "      <td>04/14/2020 12:00:00 AM</td>\n",
       "      <td>02/13/2020 12:00:00 AM</td>\n",
       "      <td>1200</td>\n",
       "      <td>1</td>\n",
       "      <td>Central</td>\n",
       "      <td>155</td>\n",
       "      <td>2</td>\n",
       "      <td>845</td>\n",
       "      <td>SEX OFFENDER REGISTRANT OUT OF COMPLIANCE</td>\n",
       "      <td>...</td>\n",
       "      <td>AA</td>\n",
       "      <td>Adult Arrest</td>\n",
       "      <td>845.0</td>\n",
       "      <td>NaN</td>\n",
       "      <td>NaN</td>\n",
       "      <td>NaN</td>\n",
       "      <td>200 E  6TH                          ST</td>\n",
       "      <td>NaN</td>\n",
       "      <td>34.0448</td>\n",
       "      <td>-118.2474</td>\n",
       "    </tr>\n",
       "    <tr>\n",
       "      <th>3</th>\n",
       "      <td>191501505</td>\n",
       "      <td>01/01/2020 12:00:00 AM</td>\n",
       "      <td>01/01/2020 12:00:00 AM</td>\n",
       "      <td>1730</td>\n",
       "      <td>15</td>\n",
       "      <td>N Hollywood</td>\n",
       "      <td>1543</td>\n",
       "      <td>2</td>\n",
       "      <td>745</td>\n",
       "      <td>VANDALISM - MISDEAMEANOR ($399 OR UNDER)</td>\n",
       "      <td>...</td>\n",
       "      <td>IC</td>\n",
       "      <td>Invest Cont</td>\n",
       "      <td>745.0</td>\n",
       "      <td>998.0</td>\n",
       "      <td>NaN</td>\n",
       "      <td>NaN</td>\n",
       "      <td>5400    CORTEEN                      PL</td>\n",
       "      <td>NaN</td>\n",
       "      <td>34.1685</td>\n",
       "      <td>-118.4019</td>\n",
       "    </tr>\n",
       "    <tr>\n",
       "      <th>4</th>\n",
       "      <td>191921269</td>\n",
       "      <td>01/01/2020 12:00:00 AM</td>\n",
       "      <td>01/01/2020 12:00:00 AM</td>\n",
       "      <td>415</td>\n",
       "      <td>19</td>\n",
       "      <td>Mission</td>\n",
       "      <td>1998</td>\n",
       "      <td>2</td>\n",
       "      <td>740</td>\n",
       "      <td>VANDALISM - FELONY ($400 &amp; OVER, ALL CHURCH VA...</td>\n",
       "      <td>...</td>\n",
       "      <td>IC</td>\n",
       "      <td>Invest Cont</td>\n",
       "      <td>740.0</td>\n",
       "      <td>NaN</td>\n",
       "      <td>NaN</td>\n",
       "      <td>NaN</td>\n",
       "      <td>14400    TITUS                        ST</td>\n",
       "      <td>NaN</td>\n",
       "      <td>34.2198</td>\n",
       "      <td>-118.4468</td>\n",
       "    </tr>\n",
       "    <tr>\n",
       "      <th>...</th>\n",
       "      <td>...</td>\n",
       "      <td>...</td>\n",
       "      <td>...</td>\n",
       "      <td>...</td>\n",
       "      <td>...</td>\n",
       "      <td>...</td>\n",
       "      <td>...</td>\n",
       "      <td>...</td>\n",
       "      <td>...</td>\n",
       "      <td>...</td>\n",
       "      <td>...</td>\n",
       "      <td>...</td>\n",
       "      <td>...</td>\n",
       "      <td>...</td>\n",
       "      <td>...</td>\n",
       "      <td>...</td>\n",
       "      <td>...</td>\n",
       "      <td>...</td>\n",
       "      <td>...</td>\n",
       "      <td>...</td>\n",
       "      <td>...</td>\n",
       "    </tr>\n",
       "    <tr>\n",
       "      <th>829773</th>\n",
       "      <td>231604807</td>\n",
       "      <td>01/27/2023 12:00:00 AM</td>\n",
       "      <td>01/26/2023 12:00:00 AM</td>\n",
       "      <td>1800</td>\n",
       "      <td>16</td>\n",
       "      <td>Foothill</td>\n",
       "      <td>1663</td>\n",
       "      <td>2</td>\n",
       "      <td>740</td>\n",
       "      <td>VANDALISM - FELONY ($400 &amp; OVER, ALL CHURCH VA...</td>\n",
       "      <td>...</td>\n",
       "      <td>IC</td>\n",
       "      <td>Invest Cont</td>\n",
       "      <td>740.0</td>\n",
       "      <td>NaN</td>\n",
       "      <td>NaN</td>\n",
       "      <td>NaN</td>\n",
       "      <td>12500    BRANFORD                     ST</td>\n",
       "      <td>NaN</td>\n",
       "      <td>34.2466</td>\n",
       "      <td>-118.4054</td>\n",
       "    </tr>\n",
       "    <tr>\n",
       "      <th>829774</th>\n",
       "      <td>231606525</td>\n",
       "      <td>03/22/2023 12:00:00 AM</td>\n",
       "      <td>03/22/2023 12:00:00 AM</td>\n",
       "      <td>1000</td>\n",
       "      <td>16</td>\n",
       "      <td>Foothill</td>\n",
       "      <td>1602</td>\n",
       "      <td>1</td>\n",
       "      <td>230</td>\n",
       "      <td>ASSAULT WITH DEADLY WEAPON, AGGRAVATED ASSAULT</td>\n",
       "      <td>...</td>\n",
       "      <td>IC</td>\n",
       "      <td>Invest Cont</td>\n",
       "      <td>230.0</td>\n",
       "      <td>NaN</td>\n",
       "      <td>NaN</td>\n",
       "      <td>NaN</td>\n",
       "      <td>12800    FILMORE                      ST</td>\n",
       "      <td>NaN</td>\n",
       "      <td>34.2790</td>\n",
       "      <td>-118.4116</td>\n",
       "    </tr>\n",
       "    <tr>\n",
       "      <th>829775</th>\n",
       "      <td>231210064</td>\n",
       "      <td>04/12/2023 12:00:00 AM</td>\n",
       "      <td>04/12/2023 12:00:00 AM</td>\n",
       "      <td>1630</td>\n",
       "      <td>12</td>\n",
       "      <td>77th Street</td>\n",
       "      <td>1239</td>\n",
       "      <td>1</td>\n",
       "      <td>230</td>\n",
       "      <td>ASSAULT WITH DEADLY WEAPON, AGGRAVATED ASSAULT</td>\n",
       "      <td>...</td>\n",
       "      <td>IC</td>\n",
       "      <td>Invest Cont</td>\n",
       "      <td>230.0</td>\n",
       "      <td>NaN</td>\n",
       "      <td>NaN</td>\n",
       "      <td>NaN</td>\n",
       "      <td>6100 S  VERMONT                      AV</td>\n",
       "      <td>NaN</td>\n",
       "      <td>33.9841</td>\n",
       "      <td>-118.2915</td>\n",
       "    </tr>\n",
       "    <tr>\n",
       "      <th>829776</th>\n",
       "      <td>230115220</td>\n",
       "      <td>07/02/2023 12:00:00 AM</td>\n",
       "      <td>07/01/2023 12:00:00 AM</td>\n",
       "      <td>1</td>\n",
       "      <td>1</td>\n",
       "      <td>Central</td>\n",
       "      <td>154</td>\n",
       "      <td>1</td>\n",
       "      <td>352</td>\n",
       "      <td>PICKPOCKET</td>\n",
       "      <td>...</td>\n",
       "      <td>IC</td>\n",
       "      <td>Invest Cont</td>\n",
       "      <td>352.0</td>\n",
       "      <td>NaN</td>\n",
       "      <td>NaN</td>\n",
       "      <td>NaN</td>\n",
       "      <td>500 S  MAIN                         ST</td>\n",
       "      <td>NaN</td>\n",
       "      <td>34.0467</td>\n",
       "      <td>-118.2485</td>\n",
       "    </tr>\n",
       "    <tr>\n",
       "      <th>829777</th>\n",
       "      <td>230906458</td>\n",
       "      <td>03/05/2023 12:00:00 AM</td>\n",
       "      <td>03/05/2023 12:00:00 AM</td>\n",
       "      <td>900</td>\n",
       "      <td>9</td>\n",
       "      <td>Van Nuys</td>\n",
       "      <td>914</td>\n",
       "      <td>2</td>\n",
       "      <td>745</td>\n",
       "      <td>VANDALISM - MISDEAMEANOR ($399 OR UNDER)</td>\n",
       "      <td>...</td>\n",
       "      <td>IC</td>\n",
       "      <td>Invest Cont</td>\n",
       "      <td>745.0</td>\n",
       "      <td>NaN</td>\n",
       "      <td>NaN</td>\n",
       "      <td>NaN</td>\n",
       "      <td>14500    HARTLAND                     ST</td>\n",
       "      <td>NaN</td>\n",
       "      <td>34.1951</td>\n",
       "      <td>-118.4487</td>\n",
       "    </tr>\n",
       "  </tbody>\n",
       "</table>\n",
       "<p>829778 rows × 28 columns</p>\n",
       "</div>"
      ],
      "text/plain": [
       "            DR_NO               Date Rptd                DATE OCC  TIME OCC  \\\n",
       "0        10304468  01/08/2020 12:00:00 AM  01/08/2020 12:00:00 AM      2230   \n",
       "1       190101086  01/02/2020 12:00:00 AM  01/01/2020 12:00:00 AM       330   \n",
       "2       200110444  04/14/2020 12:00:00 AM  02/13/2020 12:00:00 AM      1200   \n",
       "3       191501505  01/01/2020 12:00:00 AM  01/01/2020 12:00:00 AM      1730   \n",
       "4       191921269  01/01/2020 12:00:00 AM  01/01/2020 12:00:00 AM       415   \n",
       "...           ...                     ...                     ...       ...   \n",
       "829773  231604807  01/27/2023 12:00:00 AM  01/26/2023 12:00:00 AM      1800   \n",
       "829774  231606525  03/22/2023 12:00:00 AM  03/22/2023 12:00:00 AM      1000   \n",
       "829775  231210064  04/12/2023 12:00:00 AM  04/12/2023 12:00:00 AM      1630   \n",
       "829776  230115220  07/02/2023 12:00:00 AM  07/01/2023 12:00:00 AM         1   \n",
       "829777  230906458  03/05/2023 12:00:00 AM  03/05/2023 12:00:00 AM       900   \n",
       "\n",
       "        AREA    AREA NAME  Rpt Dist No  Part 1-2  Crm Cd  \\\n",
       "0          3    Southwest          377         2     624   \n",
       "1          1      Central          163         2     624   \n",
       "2          1      Central          155         2     845   \n",
       "3         15  N Hollywood         1543         2     745   \n",
       "4         19      Mission         1998         2     740   \n",
       "...      ...          ...          ...       ...     ...   \n",
       "829773    16     Foothill         1663         2     740   \n",
       "829774    16     Foothill         1602         1     230   \n",
       "829775    12  77th Street         1239         1     230   \n",
       "829776     1      Central          154         1     352   \n",
       "829777     9     Van Nuys          914         2     745   \n",
       "\n",
       "                                              Crm Cd Desc  ... Status  \\\n",
       "0                                BATTERY - SIMPLE ASSAULT  ...     AO   \n",
       "1                                BATTERY - SIMPLE ASSAULT  ...     IC   \n",
       "2               SEX OFFENDER REGISTRANT OUT OF COMPLIANCE  ...     AA   \n",
       "3                VANDALISM - MISDEAMEANOR ($399 OR UNDER)  ...     IC   \n",
       "4       VANDALISM - FELONY ($400 & OVER, ALL CHURCH VA...  ...     IC   \n",
       "...                                                   ...  ...    ...   \n",
       "829773  VANDALISM - FELONY ($400 & OVER, ALL CHURCH VA...  ...     IC   \n",
       "829774     ASSAULT WITH DEADLY WEAPON, AGGRAVATED ASSAULT  ...     IC   \n",
       "829775     ASSAULT WITH DEADLY WEAPON, AGGRAVATED ASSAULT  ...     IC   \n",
       "829776                                         PICKPOCKET  ...     IC   \n",
       "829777           VANDALISM - MISDEAMEANOR ($399 OR UNDER)  ...     IC   \n",
       "\n",
       "         Status Desc Crm Cd 1 Crm Cd 2  Crm Cd 3 Crm Cd 4  \\\n",
       "0        Adult Other    624.0      NaN       NaN      NaN   \n",
       "1        Invest Cont    624.0      NaN       NaN      NaN   \n",
       "2       Adult Arrest    845.0      NaN       NaN      NaN   \n",
       "3        Invest Cont    745.0    998.0       NaN      NaN   \n",
       "4        Invest Cont    740.0      NaN       NaN      NaN   \n",
       "...              ...      ...      ...       ...      ...   \n",
       "829773   Invest Cont    740.0      NaN       NaN      NaN   \n",
       "829774   Invest Cont    230.0      NaN       NaN      NaN   \n",
       "829775   Invest Cont    230.0      NaN       NaN      NaN   \n",
       "829776   Invest Cont    352.0      NaN       NaN      NaN   \n",
       "829777   Invest Cont    745.0      NaN       NaN      NaN   \n",
       "\n",
       "                                        LOCATION Cross Street      LAT  \\\n",
       "0        1100 W  39TH                         PL          NaN  34.0141   \n",
       "1         700 S  HILL                         ST          NaN  34.0459   \n",
       "2         200 E  6TH                          ST          NaN  34.0448   \n",
       "3        5400    CORTEEN                      PL          NaN  34.1685   \n",
       "4       14400    TITUS                        ST          NaN  34.2198   \n",
       "...                                          ...          ...      ...   \n",
       "829773  12500    BRANFORD                     ST          NaN  34.2466   \n",
       "829774  12800    FILMORE                      ST          NaN  34.2790   \n",
       "829775   6100 S  VERMONT                      AV          NaN  33.9841   \n",
       "829776    500 S  MAIN                         ST          NaN  34.0467   \n",
       "829777  14500    HARTLAND                     ST          NaN  34.1951   \n",
       "\n",
       "             LON  \n",
       "0      -118.2978  \n",
       "1      -118.2545  \n",
       "2      -118.2474  \n",
       "3      -118.4019  \n",
       "4      -118.4468  \n",
       "...          ...  \n",
       "829773 -118.4054  \n",
       "829774 -118.4116  \n",
       "829775 -118.2915  \n",
       "829776 -118.2485  \n",
       "829777 -118.4487  \n",
       "\n",
       "[829778 rows x 28 columns]"
      ]
     },
     "execution_count": 4,
     "metadata": {},
     "output_type": "execute_result"
    }
   ],
   "source": [
    "df"
   ]
  },
  {
   "cell_type": "code",
   "execution_count": 8,
   "metadata": {},
   "outputs": [
    {
     "name": "stdout",
     "output_type": "stream",
     "text": [
      "<class 'pandas.core.frame.DataFrame'>\n",
      "RangeIndex: 829778 entries, 0 to 829777\n",
      "Data columns (total 28 columns):\n",
      " #   Column          Non-Null Count   Dtype  \n",
      "---  ------          --------------   -----  \n",
      " 0   DR_NO           829778 non-null  int64  \n",
      " 1   Date Rptd       829778 non-null  object \n",
      " 2   DATE OCC        829778 non-null  object \n",
      " 3   TIME OCC        829778 non-null  int64  \n",
      " 4   AREA            829778 non-null  int64  \n",
      " 5   AREA NAME       829778 non-null  object \n",
      " 6   Rpt Dist No     829778 non-null  int64  \n",
      " 7   Part 1-2        829778 non-null  int64  \n",
      " 8   Crm Cd          829778 non-null  int64  \n",
      " 9   Crm Cd Desc     829778 non-null  object \n",
      " 10  Mocodes         714922 non-null  object \n",
      " 11  Vict Age        829778 non-null  int64  \n",
      " 12  Vict Sex        720479 non-null  object \n",
      " 13  Vict Descent    720471 non-null  object \n",
      " 14  Premis Cd       829768 non-null  float64\n",
      " 15  Premis Desc     829286 non-null  object \n",
      " 16  Weapon Used Cd  289319 non-null  float64\n",
      " 17  Weapon Desc     289319 non-null  object \n",
      " 18  Status          829778 non-null  object \n",
      " 19  Status Desc     829778 non-null  object \n",
      " 20  Crm Cd 1        829768 non-null  float64\n",
      " 21  Crm Cd 2        61028 non-null   float64\n",
      " 22  Crm Cd 3        2058 non-null    float64\n",
      " 23  Crm Cd 4        61 non-null      float64\n",
      " 24  LOCATION        829778 non-null  object \n",
      " 25  Cross Street    132508 non-null  object \n",
      " 26  LAT             829778 non-null  float64\n",
      " 27  LON             829778 non-null  float64\n",
      "dtypes: float64(8), int64(7), object(13)\n",
      "memory usage: 177.3+ MB\n"
     ]
    }
   ],
   "source": [
    "df.info()"
   ]
  },
  {
   "cell_type": "markdown",
   "metadata": {},
   "source": [
    "To find possible averages in the data, you can use the pandas library in Python, assuming you've already loaded the data into a DataFrame named df."
   ]
  },
  {
   "cell_type": "markdown",
   "metadata": {},
   "source": [
    "Average of a numerical column:Eg Average time of occurrence"
   ]
  },
  {
   "cell_type": "code",
   "execution_count": 5,
   "metadata": {},
   "outputs": [
    {
     "name": "stdout",
     "output_type": "stream",
     "text": [
      "Average time of occurrence: 1335.8753606386285\n"
     ]
    }
   ],
   "source": [
    "#1. Average time of occurrence\n",
    "average_time_occ = df['TIME OCC'].mean()\n",
    "print(\"Average time of occurrence:\", average_time_occ)\n"
   ]
  },
  {
   "cell_type": "markdown",
   "metadata": {},
   "source": [
    "Average of a group using groupby (e.g., average crime code occurrences per area):"
   ]
  },
  {
   "cell_type": "code",
   "execution_count": 9,
   "metadata": {},
   "outputs": [
    {
     "name": "stdout",
     "output_type": "stream",
     "text": [
      "Average crime code occurrences per area:\n",
      "AREA NAME\n",
      "77th Street    495.064990\n",
      "Central        485.666148\n",
      "Devonshire     494.885955\n",
      "Foothill       515.488101\n",
      "Harbor         523.497391\n",
      "Hollenbeck     511.180446\n",
      "Hollywood      502.476262\n",
      "Mission        515.591640\n",
      "N Hollywood    500.247631\n",
      "Newton         494.254624\n",
      "Northeast      503.441317\n",
      "Olympic        503.283524\n",
      "Pacific        490.557141\n",
      "Rampart        499.852347\n",
      "Southeast      498.126573\n",
      "Southwest      510.424184\n",
      "Topanga        497.123301\n",
      "Van Nuys       501.938117\n",
      "West LA        494.768980\n",
      "West Valley    503.059420\n",
      "Wilshire       496.576142\n",
      "Name: Crm Cd, dtype: float64\n"
     ]
    }
   ],
   "source": [
    "average_crime_per_area = df.groupby('AREA NAME')['Crm Cd'].mean()\n",
    "print(\"Average crime code occurrences per area:\")\n",
    "print(average_crime_per_area)"
   ]
  },
  {
   "cell_type": "markdown",
   "metadata": {},
   "source": [
    "The essence of finding the average crime code occurrences per area is to understand the typical frequency of different types of crimes across various geographic regions."
   ]
  },
  {
   "cell_type": "markdown",
   "metadata": {},
   "source": [
    "Average of a specific crime code occurrences:"
   ]
  },
  {
   "cell_type": "code",
   "execution_count": 15,
   "metadata": {},
   "outputs": [
    {
     "name": "stdout",
     "output_type": "stream",
     "text": [
      "Percentage of occurrences for a specific crime (e.g., Crime Code 624): 0.07971891276943954\n"
     ]
    }
   ],
   "source": [
    "average_specific_crime = df[df['Crm Cd'] == 624]['Crm Cd'].count() / df['Crm Cd'].count()\n",
    "print(\"Percentage of occurrences for a specific crime (e.g., Crime Code 624):\", average_specific_crime)\n"
   ]
  },
  {
   "cell_type": "markdown",
   "metadata": {},
   "source": [
    "The essence of finding the percentage of occurrences for a specific crime (e.g., Crime Code 624) is to understand the proportion of incidents attributed to that particular crime within the dataset."
   ]
  },
  {
   "cell_type": "markdown",
   "metadata": {},
   "source": [
    "\n",
    "In data analysis, \"spread\" refers to the extent of variability or dispersion in a dataset. It provides information about how data points are distributed across the range of values in a particular column or feature. Measures of spread, such as range, standard deviation, interquartile range (IQR), and variance, help to quantify the degree of dispersion within the data and provide insights into the distribution's shape and characteristics.\n",
    "\n",
    "To find possible spreads in the data, you can use various statistical measures provided by the pandas library in Python."
   ]
  },
  {
   "cell_type": "code",
   "execution_count": 16,
   "metadata": {},
   "outputs": [
    {
     "name": "stdout",
     "output_type": "stream",
     "text": [
      "Range of time of occurrence: 2358\n"
     ]
    }
   ],
   "source": [
    "data_range = df['TIME OCC'].max() - df['TIME OCC'].min()\n",
    "print(\"Range of time of occurrence:\", data_range)"
   ]
  },
  {
   "cell_type": "code",
   "execution_count": 17,
   "metadata": {},
   "outputs": [
    {
     "name": "stdout",
     "output_type": "stream",
     "text": [
      "Standard deviation of latitude: 1.7804487683915975\n"
     ]
    }
   ],
   "source": [
    "std_deviation = df['LAT'].std()\n",
    "print(\"Standard deviation of latitude:\", std_deviation)"
   ]
  },
  {
   "cell_type": "code",
   "execution_count": 18,
   "metadata": {},
   "outputs": [
    {
     "name": "stdout",
     "output_type": "stream",
     "text": [
      "Variance of crime code: 43177.96753902757\n"
     ]
    }
   ],
   "source": [
    "variance = df['Crm Cd'].var()\n",
    "print(\"Variance of crime code:\", variance)"
   ]
  },
  {
   "cell_type": "code",
   "execution_count": 19,
   "metadata": {},
   "outputs": [
    {
     "name": "stdout",
     "output_type": "stream",
     "text": [
      "Interquartile range of longitude: 0.15569999999999595\n"
     ]
    }
   ],
   "source": [
    "Q1 = df['LON'].quantile(0.25)\n",
    "Q3 = df['LON'].quantile(0.75)\n",
    "IQR = Q3 - Q1\n",
    "print(\"Interquartile range of longitude:\", IQR)"
   ]
  },
  {
   "cell_type": "markdown",
   "metadata": {},
   "source": [
    "To find possible correlations in the data, you can use the .corr() method in pandas, which calculates the correlation coefficients between pairs of columns in a DataFrame. Here's how you can do it:"
   ]
  },
  {
   "cell_type": "code",
   "execution_count": 23,
   "metadata": {},
   "outputs": [],
   "source": [
    "df['Date Rptd'] = pd.to_datetime(df['Date Rptd'])\n",
    "df['DATE OCC'] = pd.to_datetime(df['DATE OCC'])\n",
    "\n"
   ]
  },
  {
   "cell_type": "code",
   "execution_count": 25,
   "metadata": {},
   "outputs": [
    {
     "name": "stdout",
     "output_type": "stream",
     "text": [
      "Correlation matrix:\n",
      "                   DR_NO  TIME OCC      AREA  AREA NAME  Rpt Dist No  \\\n",
      "DR_NO           1.000000 -0.016933  0.044193   0.032156     0.044504   \n",
      "TIME OCC       -0.016933  1.000000  0.000391  -0.008020     0.000490   \n",
      "AREA            0.044193  0.000391  1.000000   0.758628     0.999047   \n",
      "AREA NAME       0.032156 -0.008020  0.758628   1.000000     0.756498   \n",
      "Rpt Dist No     0.044504  0.000490  0.999047   0.756498     1.000000   \n",
      "Part 1-2        0.001524 -0.053439  0.010489  -0.022237     0.010364   \n",
      "Crm Cd         -0.025888  0.016755  0.000326  -0.020904     0.000227   \n",
      "Vict Age       -0.011879 -0.034779  0.016225  -0.022800     0.016193   \n",
      "Premis Cd       0.041982 -0.063972  0.002234   0.002873     0.002181   \n",
      "Weapon Used Cd  0.007609 -0.004763 -0.018368   0.041276    -0.018044   \n",
      "Crm Cd 1       -0.025852  0.016770  0.000119  -0.020444     0.000020   \n",
      "Crm Cd 2        0.026685  0.005190 -0.036229   0.142400    -0.036618   \n",
      "Crm Cd 3        0.026763 -0.000238  0.029318  -0.057604     0.028842   \n",
      "Crm Cd 4        0.141289 -0.021837  0.158521        NaN     0.159564   \n",
      "LAT             0.042205  0.002788  0.022581   0.027343     0.022346   \n",
      "LON            -0.041284 -0.002598 -0.009399   0.002951    -0.009323   \n",
      "\n",
      "                Part 1-2    Crm Cd  Vict Age  Premis Cd  Weapon Used Cd  \\\n",
      "DR_NO           0.001524 -0.025888 -0.011879   0.041982        0.007609   \n",
      "TIME OCC       -0.053439  0.016755 -0.034779  -0.063972       -0.004763   \n",
      "AREA            0.010489  0.000326  0.016225   0.002234       -0.018368   \n",
      "AREA NAME      -0.022237 -0.020904 -0.022800   0.002873        0.041276   \n",
      "Rpt Dist No     0.010364  0.000227  0.016193   0.002181       -0.018044   \n",
      "Part 1-2        1.000000  0.700326  0.198855   0.268953        0.434969   \n",
      "Crm Cd          0.700326  1.000000 -0.010488   0.104095        0.371972   \n",
      "Vict Age        0.198855 -0.010488  1.000000   0.192335        0.081613   \n",
      "Premis Cd       0.268953  0.104095  0.192335   1.000000        0.208342   \n",
      "Weapon Used Cd  0.434969  0.371972  0.081613   0.208342        1.000000   \n",
      "Crm Cd 1        0.700840  0.999286 -0.010394   0.104022        0.372841   \n",
      "Crm Cd 2        0.076315  0.001333 -0.021825  -0.055557       -0.146064   \n",
      "Crm Cd 3       -0.000644  0.115547 -0.006801  -0.030002       -0.071989   \n",
      "Crm Cd 4        0.109713  0.042493 -0.012331   0.014178        0.038598   \n",
      "LAT            -0.029592 -0.042012  0.000809  -0.006861       -0.010256   \n",
      "LON             0.030069  0.042146  0.000533   0.007965        0.012760   \n",
      "\n",
      "                Crm Cd 1  Crm Cd 2  Crm Cd 3  Crm Cd 4       LAT       LON  \n",
      "DR_NO          -0.025852  0.026685  0.026763  0.141289  0.042205 -0.041284  \n",
      "TIME OCC        0.016770  0.005190 -0.000238 -0.021837  0.002788 -0.002598  \n",
      "AREA            0.000119 -0.036229  0.029318  0.158521  0.022581 -0.009399  \n",
      "AREA NAME      -0.020444  0.142400 -0.057604       NaN  0.027343  0.002951  \n",
      "Rpt Dist No     0.000020 -0.036618  0.028842  0.159564  0.022346 -0.009323  \n",
      "Part 1-2        0.700840  0.076315 -0.000644  0.109713 -0.029592  0.030069  \n",
      "Crm Cd          0.999286  0.001333  0.115547  0.042493 -0.042012  0.042146  \n",
      "Vict Age       -0.010394 -0.021825 -0.006801 -0.012331  0.000809  0.000533  \n",
      "Premis Cd       0.104022 -0.055557 -0.030002  0.014178 -0.006861  0.007965  \n",
      "Weapon Used Cd  0.372841 -0.146064 -0.071989  0.038598 -0.010256  0.012760  \n",
      "Crm Cd 1        1.000000  0.022828  0.162518 -0.030456 -0.042081  0.042209  \n",
      "Crm Cd 2        0.022828  1.000000  0.293414  0.019224 -0.016573  0.017358  \n",
      "Crm Cd 3        0.162518  0.293414  1.000000  0.164209  0.017313 -0.025153  \n",
      "Crm Cd 4       -0.030456  0.019224  0.164209  1.000000  0.093724 -0.176995  \n",
      "LAT            -0.042081 -0.016573  0.017313  0.093724  1.000000 -0.998520  \n",
      "LON             0.042209  0.017358 -0.025153 -0.176995 -0.998520  1.000000  \n"
     ]
    }
   ],
   "source": [
    "correlation_matrix = df.corr(numeric_only=True)\n",
    "print(\"Correlation matrix:\")\n",
    "print(correlation_matrix)\n",
    "\n"
   ]
  },
  {
   "cell_type": "code",
   "execution_count": null,
   "metadata": {},
   "outputs": [
    {
     "ename": "",
     "evalue": "",
     "output_type": "error",
     "traceback": [
      "\u001b[1;31mFailed to start the Kernel. \n",
      "\u001b[1;31mUnable to start Kernel 'Python 3.12.1' due to a connection timeout. \n",
      "\u001b[1;31mView Jupyter <a href='command:jupyter.viewOutput'>log</a> for further details."
     ]
    }
   ],
   "source": [
    "\n",
    "# Plot histogram\n",
    "plt.figure(figsize=(8, 6))\n",
    "sns.histplot(df['numerical_column'], bins=20, kde=True, color='skyblue')\n",
    "plt.title('Histogram of Numerical Data')\n",
    "plt.xlabel('Numerical Values')\n",
    "plt.ylabel('Frequency')\n",
    "plt.show()\n"
   ]
  }
 ],
 "metadata": {
  "kernelspec": {
   "display_name": "Python 3",
   "language": "python",
   "name": "python3"
  },
  "language_info": {
   "codemirror_mode": {
    "name": "ipython",
    "version": 3
   },
   "file_extension": ".py",
   "mimetype": "text/x-python",
   "name": "python",
   "nbconvert_exporter": "python",
   "pygments_lexer": "ipython3",
   "version": "3.11.5"
  }
 },
 "nbformat": 4,
 "nbformat_minor": 2
}
